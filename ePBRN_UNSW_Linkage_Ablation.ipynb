{
 "cells": [
  {
   "cell_type": "markdown",
   "metadata": {},
   "source": [
    "## Reproduce results of Scheme B\n",
    "\n",
    "Paper: \"Statistical supervised meta-ensemble algorithm for data linkage\"\n",
    "\n",
    "Kha Vo, Jitendra Jonnagaddala, Siaw-Teng Liaw\n",
    "\n",
    "February 2019\n",
    "\n",
    "Jounal of Biomedical Informatics"
   ]
  },
  {
   "cell_type": "code",
   "execution_count": 1,
   "metadata": {},
   "outputs": [],
   "source": [
    "import recordlinkage as rl, pandas as pd, numpy as np\n",
    "from sklearn.model_selection import KFold\n",
    "from sklearn import svm\n",
    "from sklearn.linear_model import LogisticRegression\n",
    "from sklearn.naive_bayes import GaussianNB\n",
    "from sklearn.neural_network import MLPClassifier\n",
    "from sklearn.utils import shuffle\n",
    "from recordlinkage.preprocessing import phonetic\n",
    "from numpy.random import choice\n",
    "import collections, numpy\n",
    "from IPython.display import clear_output\n",
    "from sklearn.model_selection import train_test_split, KFold"
   ]
  },
  {
   "cell_type": "code",
   "execution_count": 2,
   "metadata": {},
   "outputs": [],
   "source": [
    "from utils import (\n",
    "    generate_true_links,\n",
    "    generate_false_links,\n",
    "    swap_fields_flag,\n",
    "    join_names_space,\n",
    "    join_names_dash,\n",
    "    abb_surname,\n",
    "    reset_day,\n",
    "    set_random_seed\n",
    ")\n",
    "from training_utils import train_model, classify, evaluation, blocking_performance"
   ]
  },
  {
   "cell_type": "code",
   "execution_count": 3,
   "metadata": {},
   "outputs": [],
   "source": [
    "set_random_seed()"
   ]
  },
  {
   "cell_type": "code",
   "execution_count": 4,
   "metadata": {},
   "outputs": [],
   "source": [
    "trainset = 'ePBRN_dup_train' \n",
    "testset = 'ePBRN_dup_test'"
   ]
  },
  {
   "cell_type": "code",
   "execution_count": 5,
   "metadata": {},
   "outputs": [],
   "source": [
    "## I did not touch these yet b/c there are differences\n",
    "## - Andrew\n",
    "def extract_features(df, links):\n",
    "    c = rl.Compare()\n",
    "    c.string('given_name', 'given_name', method='levenshtein', label='y_name_leven')\n",
    "    c.string('surname', 'surname', method='levenshtein', label='y_surname_leven')  \n",
    "    c.string('given_name', 'given_name', method='jarowinkler', label='y_name_jaro')\n",
    "    c.string('surname', 'surname', method='jarowinkler', label='y_surname_jaro')  \n",
    "    c.string('postcode', 'postcode', method='jarowinkler', label='y_postcode')      \n",
    "    exact_fields = ['postcode', 'address_1', 'address_2', 'street_number']\n",
    "    for field in exact_fields:\n",
    "        c.exact(field, field, label='y_'+field+'_exact')\n",
    "    c.compare_vectorized(reset_day,('day', 'month'), ('day', 'month'),label='reset_day_flag')    \n",
    "    c.compare_vectorized(swap_fields_flag,('day', 'month'), ('day', 'month'),label='swap_day_month')    \n",
    "    c.compare_vectorized(swap_fields_flag,('surname', 'given_name'), ('surname', 'given_name'),label='swap_names')    \n",
    "    c.compare_vectorized(join_names_space,('surname', 'given_name'), ('surname', 'given_name'),label='join_names_space')\n",
    "    c.compare_vectorized(join_names_dash,('surname', 'given_name'), ('surname', 'given_name'),label='join_names_dash')\n",
    "    c.compare_vectorized(abb_surname,'surname', 'surname',label='abb_surname')\n",
    "    # Build features\n",
    "    feature_vectors = c.compute(links, df, df)\n",
    "    return feature_vectors\n",
    "\n",
    "def generate_train_X_y(df,train_true_links):\n",
    "    # This routine is to generate the feature vector X and the corresponding labels y\n",
    "    # with exactly equal number of samples for both classes to train the classifier.\n",
    "    pos = extract_features(df, train_true_links)\n",
    "    train_false_links = generate_false_links(df, len(train_true_links))    \n",
    "    neg = extract_features(df, train_false_links)\n",
    "    X = pos.values.tolist() + neg.values.tolist()\n",
    "    y = [1]*len(pos)+[0]*len(neg)\n",
    "    X, y = shuffle(X, y, random_state=0)\n",
    "    X = np.array(X)\n",
    "    y = np.array(y)\n",
    "    return X, y\n"
   ]
  },
  {
   "cell_type": "code",
   "execution_count": 18,
   "metadata": {
    "scrolled": true
   },
   "outputs": [],
   "source": [
    "## TRAIN SETS CONSTRUCTION\n",
    "def _GetXTrain_YTrain(frac):\n",
    "    df_train = pd.read_csv(trainset+\".csv\", index_col = \"rec_id\")\n",
    "    match_ids = set(df_train['match_id'])\n",
    "    for id_ in match_ids:\n",
    "        filtered_df = df_train[df_train['match_id'] == id_]\n",
    "        if filtered_df.shape[0] == 1:\n",
    "            continue\n",
    "        if np.random.random() < frac:\n",
    "            df_train[df_train['match_id'] == id_] = filtered_df.head(1)\n",
    "    train_true_links = generate_true_links(df_train)\n",
    "    print(\"Train set size:\", len(df_train), \", number of matched pairs: \", str(len(train_true_links)))\n",
    "\n",
    "    # Preprocess train set\n",
    "    df_train['postcode'] = df_train['postcode'].astype(str)\n",
    "\n",
    "    # Final train feature vectors and labels\n",
    "    return generate_train_X_y(df_train, train_true_links)\n",
    "\n",
    "frac_of_duplicates_to_remove = [0, 0.1, 0.25, 0.4, 0.5, 0.6, 0.75, 0.85, 0.95]\n",
    "X_trains = []\n",
    "y_trains = []\n"
   ]
  },
  {
   "cell_type": "code",
   "execution_count": 20,
   "metadata": {},
   "outputs": [
    {
     "name": "stderr",
     "output_type": "stream",
     "text": [
      "100%|██████████| 11101/11101 [00:03<00:00, 3599.53it/s]\n"
     ]
    },
    {
     "name": "stdout",
     "output_type": "stream",
     "text": [
      "Train set size: 14078 , number of matched pairs:  3192\n"
     ]
    },
    {
     "name": "stderr",
     "output_type": "stream",
     "text": [
      "100%|██████████| 3192/3192 [00:02<00:00, 1350.42it/s]\n"
     ]
    }
   ],
   "source": [
    "x, y = _GetXTrain_YTrain(frac=0.0)\n",
    "X_trains.append(x)\n",
    "y_trains.append(y)"
   ]
  },
  {
   "cell_type": "code",
   "execution_count": 23,
   "metadata": {},
   "outputs": [
    {
     "name": "stderr",
     "output_type": "stream",
     "text": [
      "100%|██████████| 11101/11101 [00:02<00:00, 3797.67it/s]\n"
     ]
    },
    {
     "name": "stdout",
     "output_type": "stream",
     "text": [
      "Train set size: 14078 , number of matched pairs:  2848\n"
     ]
    },
    {
     "name": "stderr",
     "output_type": "stream",
     "text": [
      "100%|██████████| 2848/2848 [00:02<00:00, 1324.94it/s]\n"
     ]
    }
   ],
   "source": [
    "x, y = _GetXTrain_YTrain(frac=0.1)\n",
    "X_trains.append(x)\n",
    "y_trains.append(y)"
   ]
  },
  {
   "cell_type": "code",
   "execution_count": 24,
   "metadata": {},
   "outputs": [
    {
     "name": "stderr",
     "output_type": "stream",
     "text": [
      "100%|██████████| 11101/11101 [00:02<00:00, 3738.74it/s]\n"
     ]
    },
    {
     "name": "stdout",
     "output_type": "stream",
     "text": [
      "Train set size: 14078 , number of matched pairs:  2387\n"
     ]
    },
    {
     "name": "stderr",
     "output_type": "stream",
     "text": [
      "100%|██████████| 2387/2387 [00:01<00:00, 1286.46it/s]\n"
     ]
    }
   ],
   "source": [
    "x, y = _GetXTrain_YTrain(frac=0.25)\n",
    "X_trains.append(x)\n",
    "y_trains.append(y)"
   ]
  },
  {
   "cell_type": "code",
   "execution_count": 25,
   "metadata": {},
   "outputs": [
    {
     "name": "stderr",
     "output_type": "stream",
     "text": [
      "100%|██████████| 11101/11101 [00:02<00:00, 4642.01it/s]\n"
     ]
    },
    {
     "name": "stdout",
     "output_type": "stream",
     "text": [
      "Train set size: 14078 , number of matched pairs:  1866\n"
     ]
    },
    {
     "name": "stderr",
     "output_type": "stream",
     "text": [
      "100%|██████████| 1866/1866 [00:01<00:00, 1496.39it/s]\n"
     ]
    }
   ],
   "source": [
    "x, y = _GetXTrain_YTrain(frac=0.4)\n",
    "X_trains.append(x)\n",
    "y_trains.append(y)"
   ]
  },
  {
   "cell_type": "code",
   "execution_count": 26,
   "metadata": {},
   "outputs": [
    {
     "name": "stderr",
     "output_type": "stream",
     "text": [
      "100%|██████████| 11101/11101 [00:02<00:00, 4695.71it/s]\n"
     ]
    },
    {
     "name": "stdout",
     "output_type": "stream",
     "text": [
      "Train set size: 14078 , number of matched pairs:  1608\n"
     ]
    },
    {
     "name": "stderr",
     "output_type": "stream",
     "text": [
      "100%|██████████| 1608/1608 [00:01<00:00, 1514.90it/s]\n"
     ]
    }
   ],
   "source": [
    "x, y = _GetXTrain_YTrain(frac=0.5)\n",
    "X_trains.append(x)\n",
    "y_trains.append(y)"
   ]
  },
  {
   "cell_type": "code",
   "execution_count": 27,
   "metadata": {},
   "outputs": [
    {
     "name": "stderr",
     "output_type": "stream",
     "text": [
      "100%|██████████| 11101/11101 [00:02<00:00, 4745.69it/s]\n"
     ]
    },
    {
     "name": "stdout",
     "output_type": "stream",
     "text": [
      "Train set size: 14078 , number of matched pairs:  1287\n"
     ]
    },
    {
     "name": "stderr",
     "output_type": "stream",
     "text": [
      "100%|██████████| 1287/1287 [00:00<00:00, 1412.89it/s]\n"
     ]
    }
   ],
   "source": [
    "x, y = _GetXTrain_YTrain(frac=0.6)\n",
    "X_trains.append(x)\n",
    "y_trains.append(y)"
   ]
  },
  {
   "cell_type": "code",
   "execution_count": 28,
   "metadata": {},
   "outputs": [
    {
     "name": "stderr",
     "output_type": "stream",
     "text": [
      "100%|██████████| 11101/11101 [00:02<00:00, 4521.21it/s]\n"
     ]
    },
    {
     "name": "stdout",
     "output_type": "stream",
     "text": [
      "Train set size: 14078 , number of matched pairs:  772\n"
     ]
    },
    {
     "name": "stderr",
     "output_type": "stream",
     "text": [
      "100%|██████████| 772/772 [00:00<00:00, 1470.43it/s]\n"
     ]
    }
   ],
   "source": [
    "x, y = _GetXTrain_YTrain(frac=0.75)\n",
    "X_trains.append(x)\n",
    "y_trains.append(y)"
   ]
  },
  {
   "cell_type": "code",
   "execution_count": 29,
   "metadata": {},
   "outputs": [
    {
     "name": "stderr",
     "output_type": "stream",
     "text": [
      "100%|██████████| 11101/11101 [00:02<00:00, 4801.32it/s]\n"
     ]
    },
    {
     "name": "stdout",
     "output_type": "stream",
     "text": [
      "Train set size: 14078 , number of matched pairs:  466\n"
     ]
    },
    {
     "name": "stderr",
     "output_type": "stream",
     "text": [
      "100%|██████████| 466/466 [00:00<00:00, 1442.70it/s]\n"
     ]
    }
   ],
   "source": [
    "x, y = _GetXTrain_YTrain(frac=0.85)\n",
    "X_trains.append(x)\n",
    "y_trains.append(y)"
   ]
  },
  {
   "cell_type": "code",
   "execution_count": 30,
   "metadata": {},
   "outputs": [
    {
     "name": "stderr",
     "output_type": "stream",
     "text": [
      "100%|██████████| 11101/11101 [00:02<00:00, 4922.08it/s]\n"
     ]
    },
    {
     "name": "stdout",
     "output_type": "stream",
     "text": [
      "Train set size: 14078 , number of matched pairs:  172\n"
     ]
    },
    {
     "name": "stderr",
     "output_type": "stream",
     "text": [
      "100%|██████████| 172/172 [00:00<00:00, 1387.83it/s]\n"
     ]
    }
   ],
   "source": [
    "x, y = _GetXTrain_YTrain(frac=0.95)\n",
    "X_trains.append(x)\n",
    "y_trains.append(y)"
   ]
  },
  {
   "cell_type": "code",
   "execution_count": 31,
   "metadata": {},
   "outputs": [
    {
     "name": "stdout",
     "output_type": "stream",
     "text": [
      "Import test set...\n"
     ]
    },
    {
     "name": "stderr",
     "output_type": "stream",
     "text": [
      "100%|██████████| 9251/9251 [00:02<00:00, 3544.87it/s]\n"
     ]
    },
    {
     "name": "stdout",
     "output_type": "stream",
     "text": [
      "Test set size: 11731 , number of matched pairs:  2653\n",
      "BLOCKING PERFORMANCE:\n",
      "Number of pairs of matched given_name: 252552 , detected  1567 /2653 true matched pairs, missed 1086\n",
      "Number of pairs of matched surname: 33832 , detected  1480 /2653 true matched pairs, missed 1173\n",
      "Number of pairs of matched postcode: 79940 , detected  2462 /2653 true matched pairs, missed 191\n",
      "Number of pairs of at least 1 field matched: 362910 , detected  2462 /2653 true matched pairs, missed 191\n"
     ]
    }
   ],
   "source": [
    "# Blocking Criteria: declare non-match of all of the below fields disagree\n",
    "# Import\n",
    "print(\"Import test set...\")\n",
    "df_test = pd.read_csv(testset+\".csv\", index_col = \"rec_id\")\n",
    "test_true_links = generate_true_links(df_test)\n",
    "leng_test_true_links = len(test_true_links)\n",
    "print(\"Test set size:\", len(df_test), \", number of matched pairs: \", str(leng_test_true_links))\n",
    "\n",
    "print(\"BLOCKING PERFORMANCE:\")\n",
    "blocking_fields = [\"given_name\", \"surname\", \"postcode\"]\n",
    "all_candidate_pairs = []\n",
    "for field in blocking_fields:\n",
    "    block_indexer = rl.BlockIndex(on=field)\n",
    "    candidates = block_indexer.index(df_test)\n",
    "    # Comment(alecmori): This only takes two arguments, I think it's these two.\n",
    "    # detects = blocking_performance(candidates, test_true_links, df_test)\n",
    "    detects = blocking_performance(candidates, df_test)\n",
    "    all_candidate_pairs = candidates.union(all_candidate_pairs)\n",
    "    print(\"Number of pairs of matched \"+ field +\": \"+str(len(candidates)), \", detected \",\n",
    "         detects,'/'+ str(leng_test_true_links) + \" true matched pairs, missed \" + \n",
    "          str(leng_test_true_links-detects) )\n",
    "\n",
    "# Comment(alecmori): This only takes two arguments, I think it's these two.\n",
    "# detects = blocking_performance(candidates, test_true_links, df_test)\n",
    "detects = blocking_performance(candidates, df_test)\n",
    "print(\"Number of pairs of at least 1 field matched: \" + str(len(all_candidate_pairs)), \", detected \",\n",
    "     detects,'/'+ str(leng_test_true_links) + \" true matched pairs, missed \" + \n",
    "          str(leng_test_true_links-detects) )"
   ]
  },
  {
   "cell_type": "code",
   "execution_count": 32,
   "metadata": {},
   "outputs": [
    {
     "name": "stdout",
     "output_type": "stream",
     "text": [
      "Processing test set...\n",
      "Preprocess...\n",
      "Extract feature vectors...\n",
      "Count labels of y_test: Counter({0: 360311, 1: 2599})\n",
      "Finished building X_test, y_test\n"
     ]
    }
   ],
   "source": [
    "## TEST SET CONSTRUCTION\n",
    "\n",
    "# Preprocess test set\n",
    "print(\"Processing test set...\")\n",
    "print(\"Preprocess...\")\n",
    "df_test['postcode'] = df_test['postcode'].astype(str)\n",
    "\n",
    "# Test feature vectors and labels construction\n",
    "print(\"Extract feature vectors...\")\n",
    "df_X_test = extract_features(df_test, all_candidate_pairs)\n",
    "vectors = df_X_test.values.tolist()\n",
    "labels = [0]*len(vectors)\n",
    "feature_index = df_X_test.index\n",
    "for i in range(0, len(feature_index)):\n",
    "    if df_test.loc[feature_index[i][0]][\"match_id\"]==df_test.loc[feature_index[i][1]][\"match_id\"]:\n",
    "        labels[i] = 1\n",
    "X_test, y_test = shuffle(vectors, labels, random_state=0)\n",
    "X_test = np.array(X_test)\n",
    "y_test = np.array(y_test)\n",
    "print(\"Count labels of y_test:\",collections.Counter(y_test))\n",
    "print(\"Finished building X_test, y_test\")"
   ]
  },
  {
   "cell_type": "code",
   "execution_count": 16,
   "metadata": {},
   "outputs": [],
   "source": []
  },
  {
   "cell_type": "code",
   "execution_count": 40,
   "metadata": {},
   "outputs": [
    {
     "name": "stdout",
     "output_type": "stream",
     "text": [
      "Training svm, rbf: 0.001\n",
      "Training nn, relu: 100\n",
      "Training lg, l2: 0.005\n",
      "Training svm, rbf: 0.001\n",
      "Training nn, relu: 100\n",
      "Training lg, l2: 0.005\n",
      "Training svm, rbf: 0.001\n",
      "Training nn, relu: 100\n",
      "Training lg, l2: 0.005\n",
      "Training svm, rbf: 0.001\n",
      "Training nn, relu: 100\n",
      "Training lg, l2: 0.005\n",
      "Training svm, rbf: 0.001\n",
      "Training nn, relu: 100\n",
      "Training lg, l2: 0.005\n",
      "Training svm, rbf: 0.001\n",
      "Training nn, relu: 100\n",
      "Training lg, l2: 0.005\n",
      "Training svm, rbf: 0.001\n",
      "Training nn, relu: 100\n",
      "Training lg, l2: 0.005\n",
      "Training svm, rbf: 0.001\n",
      "Training nn, relu: 100\n",
      "Training lg, l2: 0.005\n",
      "Training svm, rbf: 0.001\n",
      "Training nn, relu: 100\n",
      "Training lg, l2: 0.005\n",
      "No_false: [5486, 23686, 1758, 4294, 19799, 1742, 3177, 15336, 1658, 2349, 9804, 1599, 2023, 3367, 1462, 2145, 3454, 1500, 2045, 2327, 1409, 1925, 1355, 1157, 2376, 1233, 1209] \n",
      "\n",
      "Precision: [0.3198102608912745, 0.09777591271506504, 0.6003340491529467, 0.37505528527200355, 0.11452263558942179, 0.6028811524609844, 0.4488495575221239, 0.14308132040576135, 0.6153468987496935, 0.5259767248545303, 0.20689935725327474, 0.6244400199104032, 0.5645450470640968, 0.4341337907375643, 0.6464074169456606, 0.549390774586597, 0.42775054926483014, 0.6401428207090029, 0.5617752007136485, 0.528439983270598, 0.6553524804177546, 0.5768704379562044, 0.6649867374005305, 0.702187324733595, 0.5231568016614746, 0.6874313940724479, 0.6919889502762431] \n",
      "\n",
      "Sensitivity: [0.9857637552904963, 0.9861485186610235, 0.9680646402462486, 0.9788380146210081, 0.9830704116968064, 0.966140823393613, 0.9757599076567911, 0.9823008849557522, 0.9657560600230858, 0.9738360908041555, 0.978453251250481, 0.9653712966525587, 0.9692189303578299, 0.9738360908041555, 0.9657560600230858, 0.9715275105809927, 0.9738360908041555, 0.9657560600230858, 0.9692189303578299, 0.972297037322047, 0.9657560600230858, 0.9730665640631012, 0.9646017699115044, 0.9634474797999231, 0.9692189303578299, 0.9638322431704501, 0.9638322431704501] \n",
      "\n",
      "F-score: [0.4829406220546654, 0.1779119811189782, 0.7410898379970545, 0.5423150714133447, 0.2051467341121683, 0.7424600827912478, 0.6148624075645533, 0.2497798649838568, 0.7517220724767893, 0.6830387262177843, 0.341571524513096, 0.7583497053045186, 0.71349667185951, 0.6005457349626291, 0.7744523295279234, 0.7018763029881863, 0.5944105213715359, 0.7699386503067485, 0.7112805308485106, 0.6847310662511855, 0.7808368331000155, 0.7243305169697838, 0.7872507457999686, 0.8123276561232765, 0.6795252225519288, 0.802498798654493, 0.8055957549445248] \n",
      "\n",
      "Fracs: [0, 0, 0, 0.1, 0.1, 0.1, 0.25, 0.25, 0.25, 0.4, 0.4, 0.4, 0.5, 0.5, 0.5, 0.6, 0.6, 0.6, 0.75, 0.75, 0.75, 0.85, 0.85, 0.85, 0.95, 0.95, 0.95]\n",
      "\n"
     ]
    }
   ],
   "source": [
    "## BASE LEARNERS CLASSIFICATION AND EVALUATION\n",
    "# Choose model\n",
    "modeltypes = ['svm', 'nn', 'lg'] \n",
    "modeltypes_2 = ['rbf', 'relu', 'l2']\n",
    "modelparams = [0.001, 100, 0.005]\n",
    "precision = []\n",
    "sensitivity = []\n",
    "Fscore = []\n",
    "nb_false = []\n",
    "fracs = []\n",
    "\n",
    "for frac, X_train, y_train in zip(frac_of_duplicates_to_remove, X_trains, y_trains):\n",
    "    for modeltype, modeltype_2, modelparam in zip(modeltypes, modeltypes_2, modelparams):\n",
    "        print(f'Training {modeltype}, {modeltype_2}: {modelparam}')\n",
    "        md = train_model(modeltype, modelparam, X_train, y_train, modeltype_2)\n",
    "        final_result = classify(md, X_test)\n",
    "        final_eval = evaluation(y_test, final_result)\n",
    "        precision += [final_eval['precision']]\n",
    "        sensitivity += [final_eval['sensitivity']]\n",
    "        Fscore += [final_eval['F-score']]\n",
    "        nb_false  += [final_eval['no_false']]\n",
    "        fracs.append(frac)\n",
    "    \n",
    "print(\"No_false:\",nb_false,\"\\n\")\n",
    "print(\"Precision:\",precision,\"\\n\")\n",
    "print(\"Sensitivity:\",sensitivity,\"\\n\")\n",
    "print(\"F-score:\", Fscore,\"\\n\")\n",
    "print(f\"Fracs: {fracs}\")\n",
    "print(\"\")"
   ]
  },
  {
   "cell_type": "code",
   "execution_count": 36,
   "metadata": {},
   "outputs": [],
   "source": [
    "N = int(len(fracs) / 3)"
   ]
  },
  {
   "cell_type": "code",
   "execution_count": 41,
   "metadata": {},
   "outputs": [
    {
     "data": {
      "text/plain": [
       "Text(0.5, 1.0, 'Best SVM Performance')"
      ]
     },
     "execution_count": 41,
     "metadata": {},
     "output_type": "execute_result"
    },
    {
     "data": {
      "image/png": "[encoded data removed]",
      "text/plain": [
       "<Figure size 432x288 with 1 Axes>"
      ]
     },
     "metadata": {
      "needs_background": "light"
     },
     "output_type": "display_data"
    }
   ],
   "source": [
    "import matplotlib.pyplot as plt\n",
    "\n",
    "\n",
    "plt.plot(\n",
    "    [fracs[i * 3] for i in range(N)],\n",
    "    [precision[i * 3] for i in range(N)],\n",
    ")\n",
    "\n",
    "plt.plot(\n",
    "    [fracs[i * 3] for i in range(N)],\n",
    "    [sensitivity[i * 3] for i in range(N)],\n",
    ")\n",
    "\n",
    "plt.plot(\n",
    "    [fracs[i * 3] for i in range(N)],\n",
    "    [Fscore[i * 3] for i in range(N)],\n",
    ")\n",
    "plt.legend(['Precision', 'Sensitivity', 'FScore'])\n",
    "plt.xlabel('Frac of modified data removed')\n",
    "plt.title('Best SVM Performance')"
   ]
  },
  {
   "cell_type": "code",
   "execution_count": 42,
   "metadata": {},
   "outputs": [
    {
     "data": {
      "text/plain": [
       "Text(0.5, 1.0, 'Best NN Performance')"
      ]
     },
     "execution_count": 42,
     "metadata": {},
     "output_type": "execute_result"
    },
    {
     "data": {
      "image/png": "[encoded data removed]",
      "text/plain": [
       "<Figure size 432x288 with 1 Axes>"
      ]
     },
     "metadata": {
      "needs_background": "light"
     },
     "output_type": "display_data"
    }
   ],
   "source": [
    "import matplotlib.pyplot as plt\n",
    "\n",
    "plt.plot(\n",
    "    [fracs[i * 3 + 1] for i in range(N)],\n",
    "    [precision[i * 3 + 1] for i in range(N)],\n",
    ")\n",
    "\n",
    "plt.plot(\n",
    "    [fracs[i * 3 + 1] for i in range(N)],\n",
    "    [sensitivity[i * 3 + 1] for i in range(N)],\n",
    ")\n",
    "\n",
    "plt.plot(\n",
    "    [fracs[i * 3 + 1] for i in range(N)],\n",
    "    [Fscore[i * 3 + 1] for i in range(N)],\n",
    ")\n",
    "plt.legend(['Precision', 'Sensitivity', 'FScore'])\n",
    "plt.xlabel('Frac of modified data removed')\n",
    "plt.title('Best NN Performance')"
   ]
  },
  {
   "cell_type": "code",
   "execution_count": 43,
   "metadata": {},
   "outputs": [
    {
     "data": {
      "text/plain": [
       "Text(0.5, 1.0, 'Best LG Performance')"
      ]
     },
     "execution_count": 43,
     "metadata": {},
     "output_type": "execute_result"
    },
    {
     "data": {
      "image/png": "[encoded data removed]",
      "text/plain": [
       "<Figure size 432x288 with 1 Axes>"
      ]
     },
     "metadata": {
      "needs_background": "light"
     },
     "output_type": "display_data"
    }
   ],
   "source": [
    "import matplotlib.pyplot as plt\n",
    "\n",
    "plt.plot(\n",
    "    [fracs[i * 3 + 2] for i in range(N)],\n",
    "    [precision[i * 3 + 2] for i in range(N)],\n",
    ")\n",
    "\n",
    "plt.plot(\n",
    "    [fracs[i * 3 + 2] for i in range(N)],\n",
    "    [sensitivity[i * 3 + 2] for i in range(N)],\n",
    ")\n",
    "\n",
    "plt.plot(\n",
    "    [fracs[i * 3 + 2] for i in range(N)],\n",
    "    [Fscore[i * 3 + 2] for i in range(N)],\n",
    ")\n",
    "plt.legend(['Precision', 'Sensitivity', 'FScore'])\n",
    "plt.xlabel('Frac of modified data removed')\n",
    "plt.title('Best LG Performance')"
   ]
  },
  {
   "cell_type": "code",
   "execution_count": 44,
   "metadata": {},
   "outputs": [
    {
     "data": {
      "text/plain": [
       "[<matplotlib.lines.Line2D at 0x14a2f4100>]"
      ]
     },
     "execution_count": 44,
     "metadata": {},
     "output_type": "execute_result"
    },
    {
     "data": {
      "image/png": "[encoded data removed]",
      "text/plain": [
       "<Figure size 432x288 with 1 Axes>"
      ]
     },
     "metadata": {
      "needs_background": "light"
     },
     "output_type": "display_data"
    }
   ],
   "source": [
    "plt.plot(\n",
    "    [fracs[i * 3] for i in range(N)],\n",
    "    [Fscore[i * 3] for i in range(N)],\n",
    ")\n",
    "\n",
    "\n",
    "plt.plot(\n",
    "    [fracs[i * 3 + 1] for i in range(N)],\n",
    "    [Fscore[i * 3 + 1] for i in range(N)],\n",
    ")\n",
    "\n",
    "\n",
    "plt.plot(\n",
    "    [fracs[i * 3 + 2] for i in range(N)],\n",
    "    [Fscore[i * 3 + 2] for i in range(N)],\n",
    ")\n",
    "plt.legend(['SVM', 'NN', 'LG'])\n",
    "plt.xlabel('Frac of modified data removed')\n",
    "plt.ylabel('F-Score')\n",
    "plt.title('Performance of Model With Best Hyper')"
   ]
  },
  {
   "cell_type": "code",
   "execution_count": null,
   "metadata": {},
   "outputs": [],
   "source": []
  }
 ],
 "metadata": {
  "kernelspec": {
   "display_name": "Python 3",
   "language": "python",
   "name": "python3"
  },
  "language_info": {
   "codemirror_mode": {
    "name": "ipython",
    "version": 3
   },
   "file_extension": ".py",
   "mimetype": "text/x-python",
   "name": "python",
   "nbconvert_exporter": "python",
   "pygments_lexer": "ipython3",
   "version": "3.9.10"
  }
 },
 "nbformat": 4,
 "nbformat_minor": 4
}
