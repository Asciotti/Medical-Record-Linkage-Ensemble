{
 "cells": [
  {
   "cell_type": "markdown",
   "metadata": {},
   "source": [
    "# Ablation study\n",
    "\n",
    "The authors propose augmenting the FEBRL training data with error statistics derived from ePBRN dataset (which is representative of real world medical records). The authors claim that augmenting the training data will provide a richer training set. We investigate how much impact said error-augmented data has on final model performance."
   ]
  },
  {
   "cell_type": "markdown",
   "metadata": {},
   "source": [
    "## Setup + imports"
   ]
  },
  {
   "cell_type": "code",
   "execution_count": 1,
   "metadata": {},
   "outputs": [],
   "source": [
    "import recordlinkage as rl, pandas as pd, numpy as np\n",
    "from sklearn.model_selection import KFold\n",
    "from sklearn import svm\n",
    "from sklearn.linear_model import LogisticRegression\n",
    "from sklearn.naive_bayes import GaussianNB\n",
    "from sklearn.neural_network import MLPClassifier\n",
    "from sklearn.utils import shuffle\n",
    "from recordlinkage.preprocessing import phonetic\n",
    "from numpy.random import choice\n",
    "import collections, numpy\n",
    "from IPython.display import clear_output\n",
    "from sklearn.model_selection import train_test_split, KFold"
   ]
  },
  {
   "cell_type": "code",
   "execution_count": 2,
   "metadata": {},
   "outputs": [],
   "source": [
    "from utils import (\n",
    "    generate_true_links,\n",
    "    generate_false_links,\n",
    "    swap_fields_flag,\n",
    "    join_names_space,\n",
    "    join_names_dash,\n",
    "    abb_surname,\n",
    "    reset_day,\n",
    "    set_random_seed\n",
    ")\n",
    "from training_utils import train_model, classify, evaluation, blocking_performance"
   ]
  },
  {
   "cell_type": "code",
   "execution_count": 3,
   "metadata": {},
   "outputs": [],
   "source": [
    "set_random_seed()"
   ]
  },
  {
   "cell_type": "code",
   "execution_count": 4,
   "metadata": {},
   "outputs": [],
   "source": [
    "trainset = 'ePBRN_dup_train' \n",
    "testset = 'ePBRN_dup_test'"
   ]
  },
  {
   "cell_type": "code",
   "execution_count": 5,
   "metadata": {},
   "outputs": [],
   "source": [
    "def extract_features(df, links):\n",
    "    c = rl.Compare()\n",
    "    c.string('given_name', 'given_name', method='levenshtein', label='y_name_leven')\n",
    "    c.string('surname', 'surname', method='levenshtein', label='y_surname_leven')  \n",
    "    c.string('given_name', 'given_name', method='jarowinkler', label='y_name_jaro')\n",
    "    c.string('surname', 'surname', method='jarowinkler', label='y_surname_jaro')  \n",
    "    c.string('postcode', 'postcode', method='jarowinkler', label='y_postcode')      \n",
    "    exact_fields = ['postcode', 'address_1', 'address_2', 'street_number']\n",
    "    for field in exact_fields:\n",
    "        c.exact(field, field, label='y_'+field+'_exact')\n",
    "    c.compare_vectorized(reset_day,('day', 'month'), ('day', 'month'),label='reset_day_flag')    \n",
    "    c.compare_vectorized(swap_fields_flag,('day', 'month'), ('day', 'month'),label='swap_day_month')    \n",
    "    c.compare_vectorized(swap_fields_flag,('surname', 'given_name'), ('surname', 'given_name'),label='swap_names')    \n",
    "    c.compare_vectorized(join_names_space,('surname', 'given_name'), ('surname', 'given_name'),label='join_names_space')\n",
    "    c.compare_vectorized(join_names_dash,('surname', 'given_name'), ('surname', 'given_name'),label='join_names_dash')\n",
    "    c.compare_vectorized(abb_surname,'surname', 'surname',label='abb_surname')\n",
    "    # Build features\n",
    "    feature_vectors = c.compute(links, df, df)\n",
    "    return feature_vectors\n",
    "\n",
    "def generate_train_X_y(df,train_true_links):\n",
    "    # This routine is to generate the feature vector X and the corresponding labels y\n",
    "    # with exactly equal number of samples for both classes to train the classifier.\n",
    "    pos = extract_features(df, train_true_links)\n",
    "    train_false_links = generate_false_links(df, len(train_true_links))    \n",
    "    neg = extract_features(df, train_false_links)\n",
    "    X = pos.values.tolist() + neg.values.tolist()\n",
    "    y = [1]*len(pos)+[0]*len(neg)\n",
    "    X, y = shuffle(X, y, random_state=0)\n",
    "    X = np.array(X)\n",
    "    y = np.array(y)\n",
    "    return X, y\n"
   ]
  },
  {
   "cell_type": "markdown",
   "metadata": {},
   "source": [
    "## Training set construction"
   ]
  },
  {
   "cell_type": "code",
   "execution_count": 6,
   "metadata": {
    "scrolled": true
   },
   "outputs": [],
   "source": [
    "def _GetXTrain_YTrain(frac):\n",
    "    df_train = pd.read_csv(trainset+\".csv\", index_col = \"rec_id\")\n",
    "    match_ids = set(df_train['match_id'])\n",
    "    for id_ in match_ids:\n",
    "        filtered_df = df_train[df_train['match_id'] == id_]\n",
    "        if filtered_df.shape[0] == 1:\n",
    "            continue\n",
    "        if np.random.random() < frac:\n",
    "            df_train[df_train['match_id'] == id_] = filtered_df.head(1)\n",
    "    train_true_links = generate_true_links(df_train)\n",
    "    print(\"Train set size:\", len(df_train), \", number of matched pairs: \", str(len(train_true_links)))\n",
    "\n",
    "    # Preprocess train set\n",
    "    df_train['postcode'] = df_train['postcode'].astype(str)\n",
    "\n",
    "    # Final train feature vectors and labels\n",
    "    return generate_train_X_y(df_train, train_true_links)\n"
   ]
  },
  {
   "cell_type": "markdown",
   "metadata": {},
   "source": [
    "### Error-augmentation impact preparation\n",
    "In order to evaluate the impact of the error-augmented data, we evaluated downstream model performance agaisnt varying levels of augmented data. \"Frac of duplicates to remove\" refers to the fact that we are removing said fraction (percentage) of the error-augmented data. The original authors deemed this extra data as \"duplicated\" data since the data points are augmentations of original data."
   ]
  },
  {
   "cell_type": "code",
   "execution_count": null,
   "metadata": {},
   "outputs": [],
   "source": [
    "frac_of_duplicates_to_remove = [0, 0.1, 0.25, 0.5, 0.95]\n",
    "\n",
    "# Setup containers of data for each experiment\n",
    "X_trains = []\n",
    "y_trains = []\n",
    "\n",
    "df_train = pd.read_csv(trainset+\".csv\", index_col = \"rec_id\")\n"
   ]
  },
  {
   "cell_type": "code",
   "execution_count": 8,
   "metadata": {},
   "outputs": [
    {
     "name": "stderr",
     "output_type": "stream",
     "text": [
      "100%|██████████| 11101/11101 [00:02<00:00, 4052.14it/s]\n"
     ]
    },
    {
     "name": "stdout",
     "output_type": "stream",
     "text": [
      "Train set size: 14078 , number of matched pairs:  3192\n"
     ]
    },
    {
     "name": "stderr",
     "output_type": "stream",
     "text": [
      "100%|██████████| 3192/3192 [00:02<00:00, 1376.42it/s]\n"
     ]
    }
   ],
   "source": [
    "x, y = _GetXTrain_YTrain(frac=0.0)\n",
    "X_trains.append(x)\n",
    "y_trains.append(y)"
   ]
  },
  {
   "cell_type": "code",
   "execution_count": 9,
   "metadata": {},
   "outputs": [
    {
     "name": "stderr",
     "output_type": "stream",
     "text": [
      "100%|██████████| 11101/11101 [00:02<00:00, 4038.95it/s]\n"
     ]
    },
    {
     "name": "stdout",
     "output_type": "stream",
     "text": [
      "Train set size: 14078 , number of matched pairs:  2902\n"
     ]
    },
    {
     "name": "stderr",
     "output_type": "stream",
     "text": [
      "100%|██████████| 2902/2902 [00:02<00:00, 1354.15it/s]\n"
     ]
    }
   ],
   "source": [
    "x, y = _GetXTrain_YTrain(frac=0.1)\n",
    "X_trains.append(x)\n",
    "y_trains.append(y)"
   ]
  },
  {
   "cell_type": "code",
   "execution_count": 10,
   "metadata": {},
   "outputs": [
    {
     "name": "stderr",
     "output_type": "stream",
     "text": [
      "100%|██████████| 11101/11101 [00:02<00:00, 4034.95it/s]\n"
     ]
    },
    {
     "name": "stdout",
     "output_type": "stream",
     "text": [
      "Train set size: 14078 , number of matched pairs:  2397\n"
     ]
    },
    {
     "name": "stderr",
     "output_type": "stream",
     "text": [
      "100%|██████████| 2397/2397 [00:01<00:00, 1294.16it/s]\n"
     ]
    }
   ],
   "source": [
    "x, y = _GetXTrain_YTrain(frac=0.25)\n",
    "X_trains.append(x)\n",
    "y_trains.append(y)"
   ]
  },
  {
   "cell_type": "code",
   "execution_count": 11,
   "metadata": {},
   "outputs": [
    {
     "name": "stderr",
     "output_type": "stream",
     "text": [
      "100%|██████████| 11101/11101 [00:02<00:00, 4193.46it/s]\n"
     ]
    },
    {
     "name": "stdout",
     "output_type": "stream",
     "text": [
      "Train set size: 14078 , number of matched pairs:  1630\n"
     ]
    },
    {
     "name": "stderr",
     "output_type": "stream",
     "text": [
      "100%|██████████| 1630/1630 [00:01<00:00, 1386.09it/s]\n"
     ]
    }
   ],
   "source": [
    "x, y = _GetXTrain_YTrain(frac=0.5)\n",
    "X_trains.append(x)\n",
    "y_trains.append(y)"
   ]
  },
  {
   "cell_type": "code",
   "execution_count": 12,
   "metadata": {},
   "outputs": [
    {
     "name": "stderr",
     "output_type": "stream",
     "text": [
      "100%|██████████| 11101/11101 [00:02<00:00, 5120.21it/s]\n"
     ]
    },
    {
     "name": "stdout",
     "output_type": "stream",
     "text": [
      "Train set size: 14078 , number of matched pairs:  154\n"
     ]
    },
    {
     "name": "stderr",
     "output_type": "stream",
     "text": [
      "100%|██████████| 154/154 [00:00<00:00, 1453.18it/s]\n"
     ]
    }
   ],
   "source": [
    "x, y = _GetXTrain_YTrain(frac=0.95)\n",
    "X_trains.append(x)\n",
    "y_trains.append(y)"
   ]
  },
  {
   "cell_type": "markdown",
   "metadata": {},
   "source": [
    "## Test set construction"
   ]
  },
  {
   "cell_type": "code",
   "execution_count": 13,
   "metadata": {},
   "outputs": [
    {
     "name": "stdout",
     "output_type": "stream",
     "text": [
      "Import test set...\n"
     ]
    },
    {
     "name": "stderr",
     "output_type": "stream",
     "text": [
      "100%|██████████| 9251/9251 [00:02<00:00, 4015.52it/s]\n"
     ]
    },
    {
     "name": "stdout",
     "output_type": "stream",
     "text": [
      "Test set size: 11731 , number of matched pairs:  2653\n",
      "BLOCKING PERFORMANCE:\n",
      "Number of pairs of matched given_name: 252552 , detected  1567 /2653 true matched pairs, missed 1086\n",
      "Number of pairs of matched surname: 33832 , detected  1480 /2653 true matched pairs, missed 1173\n",
      "Number of pairs of matched postcode: 79940 , detected  2462 /2653 true matched pairs, missed 191\n",
      "Number of pairs of at least 1 field matched: 362910 , detected  2462 /2653 true matched pairs, missed 191\n"
     ]
    }
   ],
   "source": [
    "# Blocking Criteria: declare non-match of all of the below fields disagree\n",
    "print(\"Import test set...\")\n",
    "df_test = pd.read_csv(testset+\".csv\", index_col = \"rec_id\")\n",
    "test_true_links = generate_true_links(df_test)\n",
    "leng_test_true_links = len(test_true_links)\n",
    "print(\"Test set size:\", len(df_test), \", number of matched pairs: \", str(leng_test_true_links))\n",
    "\n",
    "print(\"BLOCKING PERFORMANCE:\")\n",
    "blocking_fields = [\"given_name\", \"surname\", \"postcode\"]\n",
    "all_candidate_pairs = []\n",
    "for field in blocking_fields:\n",
    "    block_indexer = rl.BlockIndex(on=field)\n",
    "    candidates = block_indexer.index(df_test)\n",
    "    detects = blocking_performance(candidates, df_test)\n",
    "    all_candidate_pairs = candidates.union(all_candidate_pairs)\n",
    "    print(\"Number of pairs of matched \"+ field +\": \"+str(len(candidates)), \", detected \",\n",
    "         detects,'/'+ str(leng_test_true_links) + \" true matched pairs, missed \" + \n",
    "          str(leng_test_true_links-detects) )\n",
    "\n",
    "detects = blocking_performance(candidates, df_test)\n",
    "print(\"Number of pairs of at least 1 field matched: \" + str(len(all_candidate_pairs)), \", detected \",\n",
    "     detects,'/'+ str(leng_test_true_links) + \" true matched pairs, missed \" + \n",
    "          str(leng_test_true_links-detects) )"
   ]
  },
  {
   "cell_type": "code",
   "execution_count": 14,
   "metadata": {},
   "outputs": [
    {
     "name": "stdout",
     "output_type": "stream",
     "text": [
      "Processing test set...\n",
      "Preprocess...\n",
      "Extract feature vectors...\n",
      "Count labels of y_test: Counter({0: 360311, 1: 2599})\n",
      "Finished building X_test, y_test\n"
     ]
    }
   ],
   "source": [
    "print(\"Processing test set...\")\n",
    "print(\"Preprocess...\")\n",
    "df_test['postcode'] = df_test['postcode'].astype(str)\n",
    "\n",
    "# Test feature vectors and labels construction\n",
    "print(\"Extract feature vectors...\")\n",
    "df_X_test = extract_features(df_test, all_candidate_pairs)\n",
    "vectors = df_X_test.values.tolist()\n",
    "labels = [0]*len(vectors)\n",
    "feature_index = df_X_test.index\n",
    "for i in range(0, len(feature_index)):\n",
    "    if df_test.loc[feature_index[i][0]][\"match_id\"]==df_test.loc[feature_index[i][1]][\"match_id\"]:\n",
    "        labels[i] = 1\n",
    "X_test, y_test = shuffle(vectors, labels, random_state=0)\n",
    "X_test = np.array(X_test)\n",
    "y_test = np.array(y_test)\n",
    "print(\"Count labels of y_test:\",collections.Counter(y_test))\n",
    "print(\"Finished building X_test, y_test\")"
   ]
  },
  {
   "cell_type": "code",
   "execution_count": 16,
   "metadata": {},
   "outputs": [],
   "source": []
  },
  {
   "cell_type": "markdown",
   "metadata": {},
   "source": [
    "## Model training and evaluation sweep"
   ]
  },
  {
   "cell_type": "code",
   "execution_count": 15,
   "metadata": {},
   "outputs": [
    {
     "name": "stdout",
     "output_type": "stream",
     "text": [
      "Training svm, rbf: 0.001\n",
      "Training nn, relu: 2000\n",
      "Training lg, l2: 0.005\n",
      "Training svm, rbf: 0.001\n",
      "Training nn, relu: 2000\n",
      "Training lg, l2: 0.005\n",
      "Training svm, rbf: 0.001\n",
      "Training nn, relu: 2000\n",
      "Training lg, l2: 0.005\n",
      "Training svm, rbf: 0.001\n",
      "Training nn, relu: 2000\n"
     ]
    },
    {
     "name": "stderr",
     "output_type": "stream",
     "text": [
      "/Users/alecmori_1/Github/Medical-Record-Linkage-Ensemble/training_utils.py:44: RuntimeWarning: invalid value encountered in long_scalars\n",
      "  precision = count_true_pos/(count_true_pos+count_false_pos)\n"
     ]
    },
    {
     "name": "stdout",
     "output_type": "stream",
     "text": [
      "Training lg, l2: 0.005\n",
      "Training svm, rbf: 0.001\n",
      "Training nn, relu: 2000\n",
      "Training lg, l2: 0.005\n",
      "No_false: [5515, 1198, 1787, 4726, 1156, 1712, 3135, 1085, 1653, 2262, 2599, 1606, 2262, 2599, 1105] \n",
      "\n",
      "Precision: [0.31865671641791044, 0.6939905843256715, 0.596437054631829, 0.35292490665191534, 0.7021574670776127, 0.6072551390568319, 0.4522451888809694, 0.7161621930325528, 0.6161021109474718, 0.5358434375664752, nan, 0.6232927737770052, 0.5358586933390083, nan, 0.7123365548607163] \n",
      "\n",
      "Sensitivity: [0.9857637552904963, 0.9642170065409773, 0.966140823393613, 0.9819161215852251, 0.9642170065409773, 0.966140823393613, 0.9765294343978453, 0.9649865332820315, 0.9657560600230858, 0.9692189303578299, 0.0, 0.9657560600230858, 0.9688341669873028, 0.0, 0.9642170065409773] \n",
      "\n",
      "F-score: [0.4816242128019551, 0.807085346215781, 0.7375532383609928, 0.5192268565615462, 0.8125810635538262, 0.7457677457677457, 0.6181951041286079, 0.8221603015899033, 0.7522853289375093, 0.6901369863013699, nan, 0.7576214910956837, 0.6900520690600164, nan, 0.8193558934118031] \n",
      "\n",
      "Fracs: [0, 0, 0, 0.1, 0.1, 0.1, 0.25, 0.25, 0.25, 0.5, 0.5, 0.5, 0.95, 0.95, 0.95]\n",
      "\n"
     ]
    },
    {
     "name": "stderr",
     "output_type": "stream",
     "text": [
      "/Users/alecmori_1/Github/Medical-Record-Linkage-Ensemble/training_utils.py:44: RuntimeWarning: invalid value encountered in long_scalars\n",
      "  precision = count_true_pos/(count_true_pos+count_false_pos)\n"
     ]
    }
   ],
   "source": [
    "## BASE LEARNERS CLASSIFICATION AND EVALUATION\n",
    "# Choose model\n",
    "modeltypes = ['svm', 'nn', 'lg'] \n",
    "modeltypes_2 = ['rbf', 'relu', 'l2']\n",
    "modelparams = [0.001, 2000, 0.005]\n",
    "precision = []\n",
    "sensitivity = []\n",
    "Fscore = []\n",
    "nb_false = []\n",
    "fracs = []\n",
    "\n",
    "for frac, X_train, y_train in zip(frac_of_duplicates_to_remove, X_trains, y_trains):\n",
    "    for modeltype, modeltype_2, modelparam in zip(modeltypes, modeltypes_2, modelparams):\n",
    "        print(f'Training {modeltype}, {modeltype_2}: {modelparam}')\n",
    "        md = train_model(modeltype, modelparam, X_train, y_train, modeltype_2)\n",
    "        final_result = classify(md, X_test)\n",
    "        final_eval = evaluation(y_test, final_result)\n",
    "        precision += [final_eval['precision']]\n",
    "        sensitivity += [final_eval['sensitivity']]\n",
    "        Fscore += [final_eval['F-score']]\n",
    "        nb_false  += [final_eval['no_false']]\n",
    "        fracs.append(frac)\n",
    "    \n",
    "print(\"No_false:\",nb_false,\"\\n\")\n",
    "print(\"Precision:\",precision,\"\\n\")\n",
    "print(\"Sensitivity:\",sensitivity,\"\\n\")\n",
    "print(\"F-score:\", Fscore,\"\\n\")\n",
    "print(f\"Fracs: {fracs}\")\n",
    "print(\"\")"
   ]
  },
  {
   "cell_type": "markdown",
   "metadata": {},
   "source": [
    "## Results"
   ]
  },
  {
   "cell_type": "code",
   "execution_count": 23,
   "metadata": {},
   "outputs": [
    {
     "data": {
      "text/plain": [
       "Text(0.5, 1.0, 'Best SVM Performance')"
      ]
     },
     "execution_count": 23,
     "metadata": {},
     "output_type": "execute_result"
    },
    {
     "data": {
      "image/png": "[encoded data removed]",
      "text/plain": [
       "<Figure size 432x288 with 1 Axes>"
      ]
     },
     "metadata": {
      "needs_background": "light"
     },
     "output_type": "display_data"
    }
   ],
   "source": [
    "import matplotlib.pyplot as plt\n",
    "\n",
    "plt.plot(\n",
    "    [fracs[0], fracs[3], fracs[6], fracs[9], fracs[12], ],\n",
    "    [precision[0], precision[3], precision[6], precision[9], precision[12], ],\n",
    ")\n",
    "\n",
    "plt.plot(\n",
    "    [fracs[0], fracs[3], fracs[6], fracs[9], fracs[12], ],\n",
    "    [sensitivity[0], sensitivity[3], sensitivity[6], sensitivity[9], sensitivity[12], ],\n",
    ")\n",
    "\n",
    "plt.plot(\n",
    "    [fracs[0], fracs[3], fracs[6], fracs[9], fracs[12], ],\n",
    "    [Fscore[0], Fscore[3], Fscore[6], Fscore[9], Fscore[12], ],\n",
    ")\n",
    "plt.legend(['Precision', 'Sensitivity', 'FScore'])\n",
    "plt.xlabel('Frac of modified data removed')\n",
    "plt.title('Best SVM Performance')"
   ]
  },
  {
   "cell_type": "code",
   "execution_count": 26,
   "metadata": {},
   "outputs": [
    {
     "data": {
      "text/plain": [
       "Text(0.5, 1.0, 'Best NN Performance')"
      ]
     },
     "execution_count": 26,
     "metadata": {},
     "output_type": "execute_result"
    },
    {
     "data": {
      "image/png": "[encoded data removed]",
      "text/plain": [
       "<Figure size 432x288 with 1 Axes>"
      ]
     },
     "metadata": {
      "needs_background": "light"
     },
     "output_type": "display_data"
    }
   ],
   "source": [
    "import matplotlib.pyplot as plt\n",
    "\n",
    "plt.plot(\n",
    "    [fracs[1], fracs[4], fracs[7], fracs[10], fracs[13], ],\n",
    "    [precision[1], precision[4], precision[7], precision[10], precision[13], ],\n",
    ")\n",
    "\n",
    "\n",
    "plt.plot(\n",
    "    [fracs[1], fracs[4], fracs[7], fracs[10], fracs[13], ],\n",
    "    [sensitivity[1], sensitivity[4], sensitivity[7], sensitivity[10], sensitivity[13], ],\n",
    ")\n",
    "\n",
    "plt.plot(\n",
    "    [fracs[1], fracs[4], fracs[7], fracs[10], fracs[13], ],\n",
    "    [Fscore[1], Fscore[4], Fscore[7], Fscore[10], Fscore[13], ],\n",
    ")\n",
    "plt.legend(['Precision', 'Sensitivity', 'FScore'])\n",
    "plt.xlabel('Frac of modified data removed')\n",
    "plt.title('Best NN Performance')"
   ]
  },
  {
   "cell_type": "code",
   "execution_count": 28,
   "metadata": {},
   "outputs": [
    {
     "data": {
      "text/plain": [
       "Text(0.5, 1.0, 'Best LG Performance')"
      ]
     },
     "execution_count": 28,
     "metadata": {},
     "output_type": "execute_result"
    },
    {
     "data": {
      "image/png": "[encoded data removed]",
      "text/plain": [
       "<Figure size 432x288 with 1 Axes>"
      ]
     },
     "metadata": {
      "needs_background": "light"
     },
     "output_type": "display_data"
    }
   ],
   "source": [
    "import matplotlib.pyplot as plt\n",
    "\n",
    "plt.plot(\n",
    "    [fracs[2], fracs[5], fracs[8], fracs[11], fracs[14], ],\n",
    "    [precision[2], precision[5], precision[8], precision[11], precision[14], ],\n",
    ")\n",
    "\n",
    "plt.plot(\n",
    "    [fracs[2], fracs[5], fracs[8], fracs[11], fracs[14], ],\n",
    "    [sensitivity[2], sensitivity[5], sensitivity[8], sensitivity[11], sensitivity[14], ],\n",
    ")\n",
    "\n",
    "plt.plot(\n",
    "    [fracs[2], fracs[5], fracs[8], fracs[11], fracs[14], ],\n",
    "    [Fscore[2], Fscore[5], Fscore[8], Fscore[11], Fscore[14], ],\n",
    ")\n",
    "plt.legend(['Precision', 'Sensitivity', 'FScore'])\n",
    "plt.xlabel('Frac of modified data removed')\n",
    "plt.title('Best LG Performance')"
   ]
  },
  {
   "cell_type": "code",
   "execution_count": null,
   "metadata": {},
   "outputs": [],
   "source": []
  }
 ],
 "metadata": {
  "kernelspec": {
   "display_name": "Python 3",
   "language": "python",
   "name": "python3"
  },
  "language_info": {
   "codemirror_mode": {
    "name": "ipython",
    "version": 3
   },
   "file_extension": ".py",
   "mimetype": "text/x-python",
   "name": "python",
   "nbconvert_exporter": "python",
   "pygments_lexer": "ipython3",
   "version": "3.6.13"
  }
 },
 "nbformat": 4,
 "nbformat_minor": 4
}
