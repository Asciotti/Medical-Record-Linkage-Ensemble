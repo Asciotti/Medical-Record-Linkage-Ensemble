{
 "cells": [
  {
   "cell_type": "markdown",
   "metadata": {},
   "source": [
    "## Reproduce results of Scheme B\n",
    "\n",
    "Paper: \"Statistical supervised meta-ensemble algorithm for data linkage\"\n",
    "\n",
    "Kha Vo, Jitendra Jonnagaddala, Siaw-Teng Liaw\n",
    "\n",
    "February 2019\n",
    "\n",
    "Jounal of Biomedical Informatics"
   ]
  },
  {
   "cell_type": "code",
   "execution_count": null,
   "metadata": {},
   "outputs": [],
   "source": [
    "import recordlinkage as rl, pandas as pd, numpy as np\n",
    "from sklearn.model_selection import KFold\n",
    "from sklearn import svm\n",
    "from sklearn.linear_model import LogisticRegression\n",
    "from sklearn.naive_bayes import GaussianNB\n",
    "from sklearn.neural_network import MLPClassifier\n",
    "from sklearn.utils import shuffle\n",
    "from recordlinkage.preprocessing import phonetic\n",
    "from numpy.random import choice\n",
    "import collections, numpy\n",
    "from IPython.display import clear_output\n",
    "from sklearn.model_selection import train_test_split, KFold"
   ]
  },
  {
   "cell_type": "code",
   "execution_count": 8,
   "metadata": {},
   "outputs": [],
   "source": [
    "from utils import (\n",
    "    generate_true_links,\n",
    "    generate_false_links,\n",
    "    swap_fields_flag,\n",
    "    join_names_space,\n",
    "    join_names_dash,\n",
    "    abb_surname,\n",
    "    reset_day\n",
    ")\n",
    "from training_utils import train_model, classify, evaluation, blocking_performance"
   ]
  },
  {
   "cell_type": "code",
   "execution_count": null,
   "metadata": {},
   "outputs": [],
   "source": [
    "trainset = 'ePBRN_dup_train' \n",
    "testset = 'ePBRN_dup_test'"
   ]
  },
  {
   "cell_type": "code",
   "execution_count": 1,
   "metadata": {},
   "outputs": [],
   "source": [
    "## I did not touch these yet b/c there are differences\n",
    "## - Andrew\n",
    "def extract_features(df, links):\n",
    "    c = rl.Compare()\n",
    "    c.string('given_name', 'given_name', method='levenshtein', label='y_name_leven')\n",
    "    c.string('surname', 'surname', method='levenshtein', label='y_surname_leven')  \n",
    "    c.string('given_name', 'given_name', method='jarowinkler', label='y_name_jaro')\n",
    "    c.string('surname', 'surname', method='jarowinkler', label='y_surname_jaro')  \n",
    "    c.string('postcode', 'postcode', method='jarowinkler', label='y_postcode')      \n",
    "    exact_fields = ['postcode', 'address_1', 'address_2', 'street_number']\n",
    "    for field in exact_fields:\n",
    "        c.exact(field, field, label='y_'+field+'_exact')\n",
    "    c.compare_vectorized(reset_day,('day', 'month'), ('day', 'month'),label='reset_day_flag')    \n",
    "    c.compare_vectorized(swap_fields_flag,('day', 'month'), ('day', 'month'),label='swap_day_month')    \n",
    "    c.compare_vectorized(swap_fields_flag,('surname', 'given_name'), ('surname', 'given_name'),label='swap_names')    \n",
    "    c.compare_vectorized(join_names_space,('surname', 'given_name'), ('surname', 'given_name'),label='join_names_space')\n",
    "    c.compare_vectorized(join_names_dash,('surname', 'given_name'), ('surname', 'given_name'),label='join_names_dash')\n",
    "    c.compare_vectorized(abb_surname,'surname', 'surname',label='abb_surname')\n",
    "    # Build features\n",
    "    feature_vectors = c.compute(links, df, df)\n",
    "    return feature_vectors\n",
    "\n",
    "def generate_train_X_y(df):\n",
    "    # This routine is to generate the feature vector X and the corresponding labels y\n",
    "    # with exactly equal number of samples for both classes to train the classifier.\n",
    "    pos = extract_features(df, train_true_links)\n",
    "    train_false_links = generate_false_links(df, len(train_true_links))    \n",
    "    neg = extract_features(df, train_false_links)\n",
    "    X = pos.values.tolist() + neg.values.tolist()\n",
    "    y = [1]*len(pos)+[0]*len(neg)\n",
    "    X, y = shuffle(X, y, random_state=0)\n",
    "    X = np.array(X)\n",
    "    y = np.array(y)\n",
    "    return X, y\n"
   ]
  },
  {
   "cell_type": "code",
   "execution_count": 2,
   "metadata": {
    "scrolled": true
   },
   "outputs": [
    {
     "name": "stdout",
     "output_type": "stream",
     "text": [
      "Import train set...\n",
      "Train set size: 14078 , number of matched pairs:  3192\n",
      "Finished building X_train, y_train\n"
     ]
    }
   ],
   "source": [
    "## TRAIN SET CONSTRUCTION\n",
    "\n",
    "# Import\n",
    "print(\"Import train set...\")\n",
    "df_train = pd.read_csv(trainset+\".csv\", index_col = \"rec_id\")\n",
    "train_true_links = generate_true_links(df_train)\n",
    "print(\"Train set size:\", len(df_train), \", number of matched pairs: \", str(len(train_true_links)))\n",
    "\n",
    "# Preprocess train set\n",
    "df_train['postcode'] = df_train['postcode'].astype(str)\n",
    "\n",
    "# Final train feature vectors and labels\n",
    "X_train, y_train = generate_train_X_y(df_train)\n",
    "print(\"Finished building X_train, y_train\")"
   ]
  },
  {
   "cell_type": "code",
   "execution_count": 3,
   "metadata": {},
   "outputs": [
    {
     "name": "stdout",
     "output_type": "stream",
     "text": [
      "Import test set...\n",
      "Test set size: 11731 , number of matched pairs:  2653\n",
      "BLOCKING PERFORMANCE:\n",
      "Number of pairs of matched given_name: 252552 , detected  1567 /2653 true matched pairs, missed 1086\n",
      "Number of pairs of matched surname: 33832 , detected  1480 /2653 true matched pairs, missed 1173\n",
      "Number of pairs of matched postcode: 79940 , detected  2462 /2653 true matched pairs, missed 191\n",
      "Number of pairs of at least 1 field matched: 362910 , detected  2599 /2653 true matched pairs, missed 54\n"
     ]
    }
   ],
   "source": [
    "# Blocking Criteria: declare non-match of all of the below fields disagree\n",
    "# Import\n",
    "print(\"Import test set...\")\n",
    "df_test = pd.read_csv(testset+\".csv\", index_col = \"rec_id\")\n",
    "test_true_links = generate_true_links(df_test)\n",
    "leng_test_true_links = len(test_true_links)\n",
    "print(\"Test set size:\", len(df_test), \", number of matched pairs: \", str(leng_test_true_links))\n",
    "\n",
    "print(\"BLOCKING PERFORMANCE:\")\n",
    "blocking_fields = [\"given_name\", \"surname\", \"postcode\"]\n",
    "all_candidate_pairs = []\n",
    "for field in blocking_fields:\n",
    "    block_indexer = rl.BlockIndex(on=field)\n",
    "    candidates = block_indexer.index(df_test)\n",
    "    detects = blocking_performance(candidates, test_true_links, df_test)\n",
    "    all_candidate_pairs = candidates.union(all_candidate_pairs)\n",
    "    print(\"Number of pairs of matched \"+ field +\": \"+str(len(candidates)), \", detected \",\n",
    "         detects,'/'+ str(leng_test_true_links) + \" true matched pairs, missed \" + \n",
    "          str(leng_test_true_links-detects) )\n",
    "detects = blocking_performance(all_candidate_pairs, test_true_links, df_test)\n",
    "print(\"Number of pairs of at least 1 field matched: \" + str(len(all_candidate_pairs)), \", detected \",\n",
    "     detects,'/'+ str(leng_test_true_links) + \" true matched pairs, missed \" + \n",
    "          str(leng_test_true_links-detects) )"
   ]
  },
  {
   "cell_type": "code",
   "execution_count": 4,
   "metadata": {},
   "outputs": [
    {
     "name": "stdout",
     "output_type": "stream",
     "text": [
      "Processing test set...\n",
      "Preprocess...\n",
      "Extract feature vectors...\n",
      "Count labels of y_test: Counter({0: 360311, 1: 2599})\n",
      "Finished building X_test, y_test\n"
     ]
    }
   ],
   "source": [
    "## TEST SET CONSTRUCTION\n",
    "\n",
    "# Preprocess test set\n",
    "print(\"Processing test set...\")\n",
    "print(\"Preprocess...\")\n",
    "df_test['postcode'] = df_test['postcode'].astype(str)\n",
    "\n",
    "# Test feature vectors and labels construction\n",
    "print(\"Extract feature vectors...\")\n",
    "df_X_test = extract_features(df_test, all_candidate_pairs)\n",
    "vectors = df_X_test.values.tolist()\n",
    "labels = [0]*len(vectors)\n",
    "feature_index = df_X_test.index\n",
    "for i in range(0, len(feature_index)):\n",
    "    if df_test.loc[feature_index[i][0]][\"match_id\"]==df_test.loc[feature_index[i][1]][\"match_id\"]:\n",
    "        labels[i] = 1\n",
    "X_test, y_test = shuffle(vectors, labels, random_state=0)\n",
    "X_test = np.array(X_test)\n",
    "y_test = np.array(y_test)\n",
    "print(\"Count labels of y_test:\",collections.Counter(y_test))\n",
    "print(\"Finished building X_test, y_test\")"
   ]
  },
  {
   "cell_type": "code",
   "execution_count": null,
   "metadata": {},
   "outputs": [],
   "source": []
  },
  {
   "cell_type": "code",
   "execution_count": 5,
   "metadata": {},
   "outputs": [
    {
     "name": "stdout",
     "output_type": "stream",
     "text": [
      "BASE LEARNERS CLASSIFICATION PERFORMANCE:\n",
      "Model: svm , Param_1: rbf , tuning range: [0.001, 0.002, 0.005, 0.01, 0.02, 0.05, 0.1, 0.2, 0.5, 1, 5, 10, 20, 50, 100, 200, 500, 1000, 2000, 5000]\n",
      "No_false: [5480, 9207, 79636, 81951, 81418, 78496, 78180, 78536, 81092, 92234, 97327, 96912, 90128, 88235, 87348, 90216, 84490, 83095, 83284, 88114] \n",
      "\n",
      "Precision: [0.3200049981257029, 0.21909539194014624, 0.031593156032249825, 0.030728107110753654, 0.030923049455454384, 0.032037290518293814, 0.03216262054792825, 0.03202149556900398, 0.031054713171069767, 0.02740607172608691, 0.02599975981746127, 0.026117715629427902, 0.028018333782690752, 0.028591874931190135, 0.028873842322359716, 0.02798159700897523, 0.029810640423504012, 0.030295957426944263, 0.030229281414115537, 0.02860922771622292] \n",
      "\n",
      "Sensitivity: [0.9853789919199692, 0.9915352058484033, 0.9996152366294728, 0.9996152366294728, 0.9996152366294728, 0.9996152366294728, 0.9996152366294728, 0.9996152366294728, 1.0, 1.0, 0.9996152366294728, 1.0, 0.9996152366294728, 0.9992304732589458, 0.9992304732589458, 0.9992304732589458, 0.9988457098884186, 0.9988457098884186, 0.9988457098884186, 0.9984609465178915] \n",
      "\n",
      "F-score: [0.48311639313337107, 0.3588886567787759, 0.061250471520181066, 0.05962339495335467, 0.059990301798785416, 0.06208478707642308, 0.06232009211283824, 0.06205512826637367, 0.060238729864410714, 0.05335002873799163, 0.05068131053519698, 0.050905885809421215, 0.05450883303260459, 0.05559301715741365, 0.05612586717382378, 0.054438738077769624, 0.05789344573046988, 0.058808205058502386, 0.05868258058682581, 0.0556246248821058] \n",
      "\n",
      "\n"
     ]
    }
   ],
   "source": [
    "## BASE LEARNERS CLASSIFICATION AND EVALUATION\n",
    "# Choose model\n",
    "print(\"BASE LEARNERS CLASSIFICATION PERFORMANCE:\")\n",
    "modeltype = 'svm' # choose between 'svm', 'lg', 'nn'\n",
    "modeltype_2 = 'rbf'  # 'linear' or 'rbf' for svm, 'l1' or 'l2' for lg, 'relu' or 'logistic' for nn\n",
    "modelparam_range = [.001,.002,.005,.01,.02,.05,.1,.2,.5,1,5,10,20,50,100,200,500,1000,2000,5000] # C for svm, C for lg, alpha for NN\n",
    "\n",
    "print(\"Model:\",modeltype,\", Param_1:\",modeltype_2, \", tuning range:\", modelparam_range)\n",
    "precision = []\n",
    "sensitivity = []\n",
    "Fscore = []\n",
    "nb_false = []\n",
    "\n",
    "for modelparam in modelparam_range:\n",
    "    md = train_model(modeltype, modelparam, X_train, y_train, modeltype_2)\n",
    "    final_result = classify(md, X_test)\n",
    "    final_eval = evaluation(y_test, final_result)\n",
    "    precision += [final_eval['precision']]\n",
    "    sensitivity += [final_eval['sensitivity']]\n",
    "    Fscore += [final_eval['F-score']]\n",
    "    nb_false  += [final_eval['no_false']]\n",
    "    \n",
    "print(\"No_false:\",nb_false,\"\\n\")\n",
    "print(\"Precision:\",precision,\"\\n\")\n",
    "print(\"Sensitivity:\",sensitivity,\"\\n\")\n",
    "print(\"F-score:\", Fscore,\"\\n\")\n",
    "print(\"\")"
   ]
  },
  {
   "cell_type": "code",
   "execution_count": null,
   "metadata": {},
   "outputs": [],
   "source": []
  },
  {
   "cell_type": "code",
   "execution_count": 6,
   "metadata": {},
   "outputs": [
    {
     "name": "stdout",
     "output_type": "stream",
     "text": [
      "BAGGING PERFORMANCE:\n",
      "\n",
      "svm per fold:\n",
      "Fold 0 {'no_false': 4383, 'confusion_matrix': [2546, 4330, 53, 355981], 'precision': 0.3702734147760326, 'sensitivity': 0.9796075413620623, 'no_links': 6876, 'F-score': 0.5374142480211082}\n",
      "Fold 1 {'no_false': 4154, 'confusion_matrix': [2544, 4099, 55, 356212], 'precision': 0.3829595062471775, 'sensitivity': 0.9788380146210081, 'no_links': 6643, 'F-score': 0.550530188270937}\n",
      "Fold 2 {'no_false': 4270, 'confusion_matrix': [2544, 4215, 55, 356096], 'precision': 0.37638703950288505, 'sensitivity': 0.9788380146210081, 'no_links': 6759, 'F-score': 0.5437059200683907}\n",
      "Fold 3 {'no_false': 4345, 'confusion_matrix': [2548, 4294, 51, 356017], 'precision': 0.3724057293189126, 'sensitivity': 0.9803770681031165, 'no_links': 6842, 'F-score': 0.539773329096494}\n",
      "Fold 4 {'no_false': 4485, 'confusion_matrix': [2548, 4434, 51, 355877], 'precision': 0.36493841306215985, 'sensitivity': 0.9803770681031165, 'no_links': 6982, 'F-score': 0.5318860244233379}\n",
      "Fold 5 {'no_false': 4089, 'confusion_matrix': [2542, 4032, 57, 356279], 'precision': 0.3866747794341345, 'sensitivity': 0.9780684878799538, 'no_links': 6574, 'F-score': 0.5542352556415567}\n",
      "Fold 6 {'no_false': 4280, 'confusion_matrix': [2548, 4229, 51, 356082], 'precision': 0.3759775711966947, 'sensitivity': 0.9803770681031165, 'no_links': 6777, 'F-score': 0.5435153583617748}\n",
      "Fold 7 {'no_false': 4315, 'confusion_matrix': [2544, 4260, 55, 356051], 'precision': 0.37389770723104054, 'sensitivity': 0.9788380146210081, 'no_links': 6804, 'F-score': 0.5411039030096778}\n",
      "Fold 8 {'no_false': 4511, 'confusion_matrix': [2546, 4458, 53, 355853], 'precision': 0.36350656767561396, 'sensitivity': 0.9796075413620623, 'no_links': 7004, 'F-score': 0.530250963240654}\n",
      "Fold 9 {'no_false': 4267, 'confusion_matrix': [2546, 4214, 53, 356097], 'precision': 0.37662721893491125, 'sensitivity': 0.9796075413620623, 'no_links': 6760, 'F-score': 0.5440752217117214}\n",
      "svm bagging: {'no_false': 4314, 'confusion_matrix': [2546, 4261, 53, 356050], 'precision': 0.37402673718231233, 'sensitivity': 0.9796075413620623, 'no_links': 6807, 'F-score': 0.5413565809058049}\n",
      "\n",
      "nn per fold:\n",
      "Fold 0 {'no_false': 1177, 'confusion_matrix': [2506, 1084, 93, 359227], 'precision': 0.698050139275766, 'sensitivity': 0.9642170065409773, 'no_links': 3590, 'F-score': 0.8098238810793342}\n",
      "Fold 1 {'no_false': 1034, 'confusion_matrix': [2506, 941, 93, 359370], 'precision': 0.7270089933275312, 'sensitivity': 0.9642170065409773, 'no_links': 3447, 'F-score': 0.8289778365861726}\n",
      "Fold 2 {'no_false': 1208, 'confusion_matrix': [2507, 1116, 92, 359195], 'precision': 0.6919679823350814, 'sensitivity': 0.9646017699115044, 'no_links': 3623, 'F-score': 0.8058502089360334}\n",
      "Fold 3 {'no_false': 1017, 'confusion_matrix': [2506, 924, 93, 359387], 'precision': 0.7306122448979592, 'sensitivity': 0.9642170065409773, 'no_links': 3430, 'F-score': 0.8313153093381987}\n",
      "Fold 4 {'no_false': 1096, 'confusion_matrix': [2506, 1003, 93, 359308], 'precision': 0.7141635793673411, 'sensitivity': 0.9642170065409773, 'no_links': 3509, 'F-score': 0.8205631958087752}\n",
      "Fold 5 {'no_false': 999, 'confusion_matrix': [2506, 906, 93, 359405], 'precision': 0.7344665885111371, 'sensitivity': 0.9642170065409773, 'no_links': 3412, 'F-score': 0.8338046913991016}\n",
      "Fold 6 {'no_false': 1111, 'confusion_matrix': [2506, 1018, 93, 359293], 'precision': 0.7111237230419978, 'sensitivity': 0.9642170065409773, 'no_links': 3524, 'F-score': 0.8185529968969458}\n",
      "Fold 7 {'no_false': 1274, 'confusion_matrix': [2510, 1185, 89, 359126], 'precision': 0.6792963464140731, 'sensitivity': 0.9657560600230858, 'no_links': 3695, 'F-score': 0.7975850015888148}\n",
      "Fold 8 {'no_false': 1166, 'confusion_matrix': [2506, 1073, 93, 359238], 'precision': 0.7001955853590388, 'sensitivity': 0.9642170065409773, 'no_links': 3579, 'F-score': 0.8112657818064097}\n",
      "Fold 9 {'no_false': 1156, 'confusion_matrix': [2506, 1063, 93, 359248], 'precision': 0.7021574670776127, 'sensitivity': 0.9642170065409773, 'no_links': 3569, 'F-score': 0.8125810635538262}\n",
      "nn bagging: {'no_false': 1116, 'confusion_matrix': [2506, 1023, 93, 359288], 'precision': 0.7101161802210257, 'sensitivity': 0.9642170065409773, 'no_links': 3529, 'F-score': 0.8178851174934725}\n",
      "\n",
      "lg per fold:\n",
      "Fold 0 {'no_false': 1675, 'confusion_matrix': [2510, 1586, 89, 358725], 'precision': 0.61279296875, 'sensitivity': 0.9657560600230858, 'no_links': 4096, 'F-score': 0.7498132935026137}\n",
      "Fold 1 {'no_false': 1710, 'confusion_matrix': [2510, 1621, 89, 358690], 'precision': 0.607601065117405, 'sensitivity': 0.9657560600230858, 'no_links': 4131, 'F-score': 0.7459138187221396}\n",
      "Fold 2 {'no_false': 1743, 'confusion_matrix': [2516, 1660, 83, 358651], 'precision': 0.6024904214559387, 'sensitivity': 0.9680646402462486, 'no_links': 4176, 'F-score': 0.7427306273062732}\n",
      "Fold 3 {'no_false': 1696, 'confusion_matrix': [2511, 1608, 88, 358703], 'precision': 0.6096139839766934, 'sensitivity': 0.966140823393613, 'no_links': 4119, 'F-score': 0.7475439118785353}\n",
      "Fold 4 {'no_false': 1702, 'confusion_matrix': [2511, 1614, 88, 358697], 'precision': 0.6087272727272727, 'sensitivity': 0.966140823393613, 'no_links': 4125, 'F-score': 0.7468768590124926}\n",
      "Fold 5 {'no_false': 1669, 'confusion_matrix': [2510, 1580, 89, 358731], 'precision': 0.6136919315403423, 'sensitivity': 0.9657560600230858, 'no_links': 4090, 'F-score': 0.7504858723277021}\n",
      "Fold 6 {'no_false': 1705, 'confusion_matrix': [2510, 1616, 89, 358695], 'precision': 0.6083373727581193, 'sensitivity': 0.9657560600230858, 'no_links': 4126, 'F-score': 0.7464684014869888}\n",
      "Fold 7 {'no_false': 1715, 'confusion_matrix': [2511, 1627, 88, 358684], 'precision': 0.6068148864185597, 'sensitivity': 0.966140823393613, 'no_links': 4138, 'F-score': 0.745435653851863}\n",
      "Fold 8 {'no_false': 1670, 'confusion_matrix': [2511, 1582, 88, 358729], 'precision': 0.6134864402638651, 'sensitivity': 0.966140823393613, 'no_links': 4093, 'F-score': 0.750448296473401}\n",
      "Fold 9 {'no_false': 1702, 'confusion_matrix': [2511, 1614, 88, 358697], 'precision': 0.6087272727272727, 'sensitivity': 0.966140823393613, 'no_links': 4125, 'F-score': 0.7468768590124926}\n",
      "lg bagging: {'no_false': 1691, 'confusion_matrix': [2510, 1602, 89, 358709], 'precision': 0.6104085603112841, 'sensitivity': 0.9657560600230858, 'no_links': 4112, 'F-score': 0.7480256295634032}\n",
      "\n",
      "STACKING PERFORMANCE:\n",
      "\n",
      "{'no_false': 994, 'confusion_matrix': [2505, 900, 94, 359411], 'precision': 0.73568281938326, 'sensitivity': 0.9638322431704501, 'no_links': 3405, 'F-score': 0.8344437041972018}\n"
     ]
    }
   ],
   "source": [
    "## ENSEMBLE CLASSIFICATION AND EVALUATION\n",
    "\n",
    "print(\"BAGGING PERFORMANCE:\\n\")\n",
    "modeltypes = ['svm', 'nn', 'lg'] \n",
    "modeltypes_2 = ['rbf', 'relu', 'l2']\n",
    "modelparams = [0.001, 2000, 0.005]\n",
    "nFold = 10\n",
    "kf = KFold(n_splits=nFold)\n",
    "model_raw_score = [0]*3\n",
    "model_binary_score = [0]*3\n",
    "model_i = 0\n",
    "for model_i in range(3):\n",
    "    modeltype = modeltypes[model_i]\n",
    "    modeltype_2 = modeltypes_2[model_i]\n",
    "    modelparam = modelparams[model_i]\n",
    "    print(modeltype, \"per fold:\")\n",
    "    iFold = 0\n",
    "    result_fold = [0]*nFold\n",
    "    final_eval_fold = [0]*nFold\n",
    "    for train_index, valid_index in kf.split(X_train):\n",
    "        X_train_fold = X_train[train_index]\n",
    "        y_train_fold = y_train[train_index]\n",
    "        md =  train_model(modeltype, modelparam, X_train_fold, y_train_fold, modeltype_2)\n",
    "        result_fold[iFold] = classify(md, X_test)\n",
    "        final_eval_fold[iFold] = evaluation(y_test, result_fold[iFold])\n",
    "        print(\"Fold\", str(iFold), final_eval_fold[iFold])\n",
    "        iFold = iFold + 1\n",
    "    bagging_raw_score = np.average(result_fold, axis=0)\n",
    "    bagging_binary_score  = np.copy(bagging_raw_score)\n",
    "    bagging_binary_score[bagging_binary_score > 0.5] = 1\n",
    "    bagging_binary_score[bagging_binary_score <= 0.5] = 0\n",
    "    bagging_eval = evaluation(y_test, bagging_binary_score)\n",
    "    print(modeltype, \"bagging:\", bagging_eval)\n",
    "    print('')\n",
    "    model_raw_score[model_i] = bagging_raw_score\n",
    "    model_binary_score[model_i] = bagging_binary_score\n",
    "    \n",
    "thres = .99\n",
    "print(\"STACKING PERFORMANCE:\\n\")\n",
    "stack_raw_score = np.average(model_raw_score, axis=0)\n",
    "stack_binary_score = np.copy(stack_raw_score)\n",
    "stack_binary_score[stack_binary_score > thres] = 1\n",
    "stack_binary_score[stack_binary_score <= thres] = 0\n",
    "stacking_eval = evaluation(y_test, stack_binary_score)\n",
    "print(stacking_eval)"
   ]
  },
  {
   "cell_type": "code",
   "execution_count": null,
   "metadata": {},
   "outputs": [],
   "source": []
  },
  {
   "cell_type": "code",
   "execution_count": null,
   "metadata": {},
   "outputs": [],
   "source": []
  },
  {
   "cell_type": "code",
   "execution_count": null,
   "metadata": {},
   "outputs": [],
   "source": []
  },
  {
   "cell_type": "code",
   "execution_count": null,
   "metadata": {},
   "outputs": [],
   "source": []
  },
  {
   "cell_type": "code",
   "execution_count": null,
   "metadata": {},
   "outputs": [],
   "source": []
  }
 ],
 "metadata": {
  "kernelspec": {
   "display_name": "Python 3",
   "language": "python",
   "name": "python3"
  },
  "language_info": {
   "codemirror_mode": {
    "name": "ipython",
    "version": 3
   },
   "file_extension": ".py",
   "mimetype": "text/x-python",
   "name": "python",
   "nbconvert_exporter": "python",
   "pygments_lexer": "ipython3",
   "version": "3.6.13"
  }
 },
 "nbformat": 4,
 "nbformat_minor": 4
}
